{
 "cells": [
  {
   "attachments": {},
   "cell_type": "markdown",
   "metadata": {},
   "source": [
    "## WEB SCRAPPING THE DATA FROM IMDB WEBSITE WITH PYTHON"
   ]
  },
  {
   "cell_type": "code",
   "execution_count": 1,
   "metadata": {},
   "outputs": [
    {
     "name": "stdout",
     "output_type": "stream",
     "text": [
      "1   The Shawshank Redemption   1994   9.3   Frank Darabont\n",
      "2   The Godfather   1972   9.2   Francis Ford Coppola\n",
      "3   The Dark Knight   2008   9.0   Christopher Nolan\n",
      "4   The Lord of the Rings: The Return of the King   2003   9.0   Peter Jackson\n",
      "5   Schindler's List   1993   9.0   Steven Spielberg\n",
      "6   The Godfather Part II   1974   9.0   Francis Ford Coppola\n",
      "7   12 Angry Men   1957   9.0   Sidney Lumet\n",
      "8   Pulp Fiction   1994   8.9   Quentin Tarantino\n",
      "9   The Lord of the Rings: The Fellowship of the Ring   2001   8.8   Peter Jackson\n",
      "10   Fight Club   1999   8.8   David Fincher\n",
      "11   Inception   2010   8.8   Christopher Nolan\n",
      "12   Forrest Gump   1994   8.8   Robert Zemeckis\n",
      "13   The Lord of the Rings: The Two Towers   2002   8.8   Peter Jackson\n",
      "14   Il buono, il brutto, il cattivo   1966   8.8   Sergio Leone\n",
      "15   Jai Bhim   2021   8.8   T.J. Gnanavel\n",
      "16   GoodFellas   1990   8.7   Martin Scorsese\n",
      "17   The Matrix   1999   8.7   Lana Wachowski\n",
      "18   One Flew Over the Cuckoo's Nest   1975   8.7   Milos Forman\n",
      "19   The Empire Strikes Back   1980   8.7   Irvin Kershner\n",
      "20   Interstellar   2014   8.6   Christopher Nolan\n",
      "21   The Silence of the Lambs   1991   8.6   Jonathan Demme\n",
      "22   Saving Private Ryan   1998   8.6   Steven Spielberg\n",
      "23   Se7en   1995   8.6   David Fincher\n",
      "24   The Green Mile   1999   8.6   Frank Darabont\n",
      "25   Star Wars   1977   8.6   George Lucas\n",
      "26   Terminator 2: Judgment Day   1991   8.6   James Cameron\n",
      "27   Sen to Chihiro no kamikakushi   2001   8.6   Hayao Miyazaki\n",
      "28   Cidade de Deus   2002   8.6   Fernando Meirelles\n",
      "29   La vita è bella   1997   8.6   Roberto Benigni\n",
      "30   It's a Wonderful Life   1946   8.6   Frank Capra\n",
      "31   Shichinin no samurai   1954   8.6   Akira Kurosawa\n",
      "32   Seppuku   1962   8.6   Masaki Kobayashi\n",
      "33   Gisaengchung   2019   8.5   Bong Joon Ho\n",
      "34   The Departed   2006   8.5   Martin Scorsese\n",
      "35   Whiplash   2014   8.5   Damien Chazelle\n",
      "36   Gladiator   2000   8.5   Ridley Scott\n",
      "37   Back to the Future   1985   8.5   Robert Zemeckis\n",
      "38   The Prestige   2006   8.5   Christopher Nolan\n",
      "39   Alien   1979   8.5   Ridley Scott\n",
      "40   Léon   1994   8.5   Luc Besson\n",
      "41   The Lion King   1994   8.5   Roger Allers\n",
      "42   Apocalypse Now   1979   8.5   Francis Ford Coppola\n",
      "43   Psycho   1960   8.5   Alfred Hitchcock\n",
      "44   The Usual Suspects   1995   8.5   Bryan Singer\n",
      "45   Casablanca   1942   8.5   Michael Curtiz\n",
      "46   The Pianist   2002   8.5   Roman Polanski\n",
      "47   American History X   1998   8.5   Tony Kaye\n",
      "48   The Intouchables   2011   8.5   Olivier Nakache\n",
      "49   Once Upon a Time in the West   1968   8.5   Sergio Leone\n",
      "50   Hotaru no haka   1988   8.5   Isao Takahata\n"
     ]
    }
   ],
   "source": [
    "import requests,openpyxl\n",
    "from bs4 import BeautifulSoup\n",
    "\n",
    "excel=openpyxl.Workbook()\n",
    "sheet=excel.active\n",
    "sheet.title=\"imdb_database\"\n",
    "sheet.append(['Movie_rank','Movie_name','Year','Rating','Director'])\n",
    "#print(excel.sheetnames)\n",
    "\n",
    "try:\n",
    "    source=requests.get(\"https://www.imdb.com/search/title/?groups=top_250&sort=user_rating\")\n",
    "\n",
    "    source.raise_for_status()\n",
    "    soup=BeautifulSoup(source.text,'html.parser')\n",
    "\n",
    "    #print(soup)\n",
    "\n",
    "    movies=soup.find('div',class_=\"lister list detail sub-list\").find_all('div',class_=\"lister-item-content\")\n",
    "    #ratings=soup.find('div',class_=\"lister list detail sub-list\").find_all('strong')\n",
    "    #print(movies)\n",
    "   \n",
    "    for movie in movies:\n",
    "        rank=movie.find('span',class_=\"lister-item-index\").text.split('.')[0]\n",
    "        name=movie.find('a').text\n",
    "        year=movie.find('span',class_=\"lister-item-year\").text.strip(\"()\")\n",
    "        rating=movie.find('strong').text\n",
    "        director=movie.find('p',class_='').a.text\n",
    "        print(rank,\" \",name,\" \",year,\" \",rating,\" \",director)\n",
    "        sheet.append([rank,name,year,rating,director])\n",
    "    \n",
    "\n",
    "except Exception as e:\n",
    "    print(e)\n",
    "\n",
    "excel.save('IMDB TOP RATED MOVIES.xlsx')"
   ]
  }
 ],
 "metadata": {
  "kernelspec": {
   "display_name": "Python 3",
   "language": "python",
   "name": "python3"
  },
  "language_info": {
   "codemirror_mode": {
    "name": "ipython",
    "version": 3
   },
   "file_extension": ".py",
   "mimetype": "text/x-python",
   "name": "python",
   "nbconvert_exporter": "python",
   "pygments_lexer": "ipython3",
   "version": "3.10.4"
  },
  "orig_nbformat": 4
 },
 "nbformat": 4,
 "nbformat_minor": 2
}
